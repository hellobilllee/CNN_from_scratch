{
 "cells": [
  {
   "cell_type": "code",
   "execution_count": 1,
   "metadata": {},
   "outputs": [],
   "source": [
    "from tensorflow.examples.tutorials.mnist import input_data\n",
    "import matplotlib.pyplot as plt\n",
    "import numpy as np"
   ]
  },
  {
   "cell_type": "code",
   "execution_count": 2,
   "metadata": {},
   "outputs": [
    {
     "name": "stdout",
     "output_type": "stream",
     "text": [
      "Loadind data......\n",
      "WARNING:tensorflow:From <ipython-input-2-9d6b0edc5a57>:3: read_data_sets (from tensorflow.contrib.learn.python.learn.datasets.mnist) is deprecated and will be removed in a future version.\n",
      "Instructions for updating:\n",
      "Please use alternatives such as official/mnist/dataset.py from tensorflow/models.\n",
      "WARNING:tensorflow:From c:\\users\\admin\\anaconda3\\envs\\py35\\lib\\site-packages\\tensorflow\\contrib\\learn\\python\\learn\\datasets\\mnist.py:260: maybe_download (from tensorflow.contrib.learn.python.learn.datasets.base) is deprecated and will be removed in a future version.\n",
      "Instructions for updating:\n",
      "Please write your own downloading logic.\n",
      "WARNING:tensorflow:From c:\\users\\admin\\anaconda3\\envs\\py35\\lib\\site-packages\\tensorflow\\contrib\\learn\\python\\learn\\datasets\\mnist.py:262: extract_images (from tensorflow.contrib.learn.python.learn.datasets.mnist) is deprecated and will be removed in a future version.\n",
      "Instructions for updating:\n",
      "Please use tf.data to implement this functionality.\n",
      "Extracting MNIST_data\\train-images-idx3-ubyte.gz\n",
      "WARNING:tensorflow:From c:\\users\\admin\\anaconda3\\envs\\py35\\lib\\site-packages\\tensorflow\\contrib\\learn\\python\\learn\\datasets\\mnist.py:267: extract_labels (from tensorflow.contrib.learn.python.learn.datasets.mnist) is deprecated and will be removed in a future version.\n",
      "Instructions for updating:\n",
      "Please use tf.data to implement this functionality.\n",
      "Extracting MNIST_data\\train-labels-idx1-ubyte.gz\n",
      "WARNING:tensorflow:From c:\\users\\admin\\anaconda3\\envs\\py35\\lib\\site-packages\\tensorflow\\contrib\\learn\\python\\learn\\datasets\\mnist.py:110: dense_to_one_hot (from tensorflow.contrib.learn.python.learn.datasets.mnist) is deprecated and will be removed in a future version.\n",
      "Instructions for updating:\n",
      "Please use tf.one_hot on tensors.\n",
      "Extracting MNIST_data\\t10k-images-idx3-ubyte.gz\n",
      "Extracting MNIST_data\\t10k-labels-idx1-ubyte.gz\n",
      "WARNING:tensorflow:From c:\\users\\admin\\anaconda3\\envs\\py35\\lib\\site-packages\\tensorflow\\contrib\\learn\\python\\learn\\datasets\\mnist.py:290: DataSet.__init__ (from tensorflow.contrib.learn.python.learn.datasets.mnist) is deprecated and will be removed in a future version.\n",
      "Instructions for updating:\n",
      "Please use alternatives such as official/mnist/dataset.py from tensorflow/models.\n"
     ]
    }
   ],
   "source": [
    "print('Loadind data......')\n",
    "# MNIST_data指的是存放数据的文件夹路径，one_hot=True 为采用one_hot的编码方式编码标签\n",
    "mnist = input_data.read_data_sets('MNIST_data',one_hot=True)\n",
    "num_classes = 10\n",
    "#load data\n",
    "train_images = mnist.train.images                #训练集样本\n",
    "validation_images = mnist.validation.images      #验证集样本\n",
    "test_images = mnist.test.images                  #测试集样本\n",
    "#labels\n",
    "train_labels = mnist.train.labels                #训练集标签\n",
    "validation_labels = mnist.validation.labels      #验证集标签\n",
    "test_labels = mnist.test.labels                  #测试集标签"
   ]
  },
  {
   "cell_type": "code",
   "execution_count": 3,
   "metadata": {},
   "outputs": [
    {
     "name": "stdout",
     "output_type": "stream",
     "text": [
      "Preparing data......\n",
      "(55000, 784) (55000, 10) (10000, 784) (10000, 10)\n"
     ]
    }
   ],
   "source": [
    "print('Preparing data......')\n",
    "print(train_images.shape, train_labels.shape, test_images.shape, test_labels.shape)\n"
   ]
  },
  {
   "cell_type": "code",
   "execution_count": 4,
   "metadata": {},
   "outputs": [
    {
     "name": "stdout",
     "output_type": "stream",
     "text": [
      "(28, 28)\n"
     ]
    },
    {
     "data": {
      "image/png": "[encoded data removed]",
      "text/plain": [
       "<Figure size 432x288 with 1 Axes>"
      ]
     },
     "metadata": {
      "needs_background": "light"
     },
     "output_type": "display_data"
    }
   ],
   "source": [
    "#可视化样本\n",
    "img = train_images[0].reshape(28, 28)\n",
    "print(img.shape)\n",
    "\n",
    "plt.imshow(img)\n",
    "plt.show()"
   ]
  },
  {
   "cell_type": "code",
   "execution_count": 15,
   "metadata": {},
   "outputs": [
    {
     "data": {
      "text/plain": [
       "array([0.        , 0.        , 0.        , 0.        , 0.        ,\n",
       "       0.        , 0.        , 0.        , 0.        , 0.        ,\n",
       "       0.        , 0.        , 0.        , 0.        , 0.        ,\n",
       "       0.        , 0.        , 0.        , 0.        , 0.        ,\n",
       "       0.        , 0.        , 0.        , 0.        , 0.        ,\n",
       "       0.        , 0.        , 0.        , 0.        , 0.        ,\n",
       "       0.        , 0.        , 0.        , 0.        , 0.        ,\n",
       "       0.        , 0.        , 0.        , 0.        , 0.        ,\n",
       "       0.        , 0.        , 0.        , 0.        , 0.        ,\n",
       "       0.        , 0.        , 0.        , 0.        , 0.        ,\n",
       "       0.        , 0.        , 0.        , 0.        , 0.        ,\n",
       "       0.        , 0.        , 0.        , 0.        , 0.        ,\n",
       "       0.        , 0.        , 0.        , 0.        , 0.        ,\n",
       "       0.        , 0.        , 0.        , 0.        , 0.        ,\n",
       "       0.        , 0.        , 0.        , 0.        , 0.        ,\n",
       "       0.        , 0.        , 0.        , 0.        , 0.        ,\n",
       "       0.        , 0.        , 0.        , 0.        , 0.        ,\n",
       "       0.        , 0.        , 0.        , 0.        , 0.        ,\n",
       "       0.        , 0.        , 0.        , 0.        , 0.        ,\n",
       "       0.        , 0.        , 0.        , 0.        , 0.        ,\n",
       "       0.        , 0.        , 0.        , 0.        , 0.        ,\n",
       "       0.        , 0.        , 0.        , 0.        , 0.        ,\n",
       "       0.        , 0.        , 0.        , 0.        , 0.        ,\n",
       "       0.        , 0.        , 0.        , 0.        , 0.        ,\n",
       "       0.        , 0.        , 0.        , 0.        , 0.        ,\n",
       "       0.        , 0.        , 0.        , 0.        , 0.        ,\n",
       "       0.        , 0.        , 0.        , 0.        , 0.        ,\n",
       "       0.        , 0.        , 0.        , 0.        , 0.        ,\n",
       "       0.        , 0.        , 0.        , 0.        , 0.        ,\n",
       "       0.        , 0.        , 0.        , 0.        , 0.        ,\n",
       "       0.        , 0.        , 0.        , 0.        , 0.        ,\n",
       "       0.        , 0.        , 0.        , 0.        , 0.        ,\n",
       "       0.        , 0.        , 0.        , 0.        , 0.        ,\n",
       "       0.        , 0.        , 0.        , 0.        , 0.        ,\n",
       "       0.        , 0.        , 0.        , 0.        , 0.        ,\n",
       "       0.        , 0.        , 0.        , 0.        , 0.        ,\n",
       "       0.        , 0.        , 0.        , 0.        , 0.        ,\n",
       "       0.        , 0.        , 0.        , 0.        , 0.        ,\n",
       "       0.        , 0.        , 0.        , 0.        , 0.        ,\n",
       "       0.        , 0.        , 0.        , 0.        , 0.        ,\n",
       "       0.        , 0.        , 0.        , 0.        , 0.        ,\n",
       "       0.        , 0.        , 0.3803922 , 0.37647063, 0.3019608 ,\n",
       "       0.46274513, 0.2392157 , 0.        , 0.        , 0.        ,\n",
       "       0.        , 0.        , 0.        , 0.        , 0.        ,\n",
       "       0.        , 0.        , 0.        , 0.        , 0.        ,\n",
       "       0.        , 0.        , 0.3529412 , 0.5411765 , 0.9215687 ,\n",
       "       0.9215687 , 0.9215687 , 0.9215687 , 0.9215687 , 0.9215687 ,\n",
       "       0.9843138 , 0.9843138 , 0.9725491 , 0.9960785 , 0.9607844 ,\n",
       "       0.9215687 , 0.74509805, 0.08235294, 0.        , 0.        ,\n",
       "       0.        , 0.        , 0.        , 0.        , 0.        ,\n",
       "       0.        , 0.        , 0.        , 0.        , 0.54901963,\n",
       "       0.9843138 , 0.9960785 , 0.9960785 , 0.9960785 , 0.9960785 ,\n",
       "       0.9960785 , 0.9960785 , 0.9960785 , 0.9960785 , 0.9960785 ,\n",
       "       0.9960785 , 0.9960785 , 0.9960785 , 0.9960785 , 0.9960785 ,\n",
       "       0.7411765 , 0.09019608, 0.        , 0.        , 0.        ,\n",
       "       0.        , 0.        , 0.        , 0.        , 0.        ,\n",
       "       0.        , 0.        , 0.8862746 , 0.9960785 , 0.81568635,\n",
       "       0.7803922 , 0.7803922 , 0.7803922 , 0.7803922 , 0.54509807,\n",
       "       0.2392157 , 0.2392157 , 0.2392157 , 0.2392157 , 0.2392157 ,\n",
       "       0.5019608 , 0.8705883 , 0.9960785 , 0.9960785 , 0.7411765 ,\n",
       "       0.08235294, 0.        , 0.        , 0.        , 0.        ,\n",
       "       0.        , 0.        , 0.        , 0.        , 0.        ,\n",
       "       0.14901961, 0.32156864, 0.0509804 , 0.        , 0.        ,\n",
       "       0.        , 0.        , 0.        , 0.        , 0.        ,\n",
       "       0.        , 0.        , 0.        , 0.        , 0.13333334,\n",
       "       0.8352942 , 0.9960785 , 0.9960785 , 0.45098042, 0.        ,\n",
       "       0.        , 0.        , 0.        , 0.        , 0.        ,\n",
       "       0.        , 0.        , 0.        , 0.        , 0.        ,\n",
       "       0.        , 0.        , 0.        , 0.        , 0.        ,\n",
       "       0.        , 0.        , 0.        , 0.        , 0.        ,\n",
       "       0.        , 0.        , 0.        , 0.32941177, 0.9960785 ,\n",
       "       0.9960785 , 0.9176471 , 0.        , 0.        , 0.        ,\n",
       "       0.        , 0.        , 0.        , 0.        , 0.        ,\n",
       "       0.        , 0.        , 0.        , 0.        , 0.        ,\n",
       "       0.        , 0.        , 0.        , 0.        , 0.        ,\n",
       "       0.        , 0.        , 0.        , 0.        , 0.        ,\n",
       "       0.        , 0.32941177, 0.9960785 , 0.9960785 , 0.9176471 ,\n",
       "       0.        , 0.        , 0.        , 0.        , 0.        ,\n",
       "       0.        , 0.        , 0.        , 0.        , 0.        ,\n",
       "       0.        , 0.        , 0.        , 0.        , 0.        ,\n",
       "       0.        , 0.        , 0.        , 0.        , 0.        ,\n",
       "       0.        , 0.        , 0.        , 0.4156863 , 0.6156863 ,\n",
       "       0.9960785 , 0.9960785 , 0.95294124, 0.20000002, 0.        ,\n",
       "       0.        , 0.        , 0.        , 0.        , 0.        ,\n",
       "       0.        , 0.        , 0.        , 0.        , 0.        ,\n",
       "       0.        , 0.        , 0.        , 0.        , 0.        ,\n",
       "       0.        , 0.09803922, 0.45882356, 0.8941177 , 0.8941177 ,\n",
       "       0.8941177 , 0.9921569 , 0.9960785 , 0.9960785 , 0.9960785 ,\n",
       "       0.9960785 , 0.94117653, 0.        , 0.        , 0.        ,\n",
       "       0.        , 0.        , 0.        , 0.        , 0.        ,\n",
       "       0.        , 0.        , 0.        , 0.        , 0.        ,\n",
       "       0.        , 0.        , 0.26666668, 0.4666667 , 0.86274517,\n",
       "       0.9960785 , 0.9960785 , 0.9960785 , 0.9960785 , 0.9960785 ,\n",
       "       0.9960785 , 0.9960785 , 0.9960785 , 0.9960785 , 0.5568628 ,\n",
       "       0.        , 0.        , 0.        , 0.        , 0.        ,\n",
       "       0.        , 0.        , 0.        , 0.        , 0.        ,\n",
       "       0.        , 0.        , 0.        , 0.14509805, 0.73333335,\n",
       "       0.9921569 , 0.9960785 , 0.9960785 , 0.9960785 , 0.8745099 ,\n",
       "       0.8078432 , 0.8078432 , 0.29411766, 0.26666668, 0.8431373 ,\n",
       "       0.9960785 , 0.9960785 , 0.45882356, 0.        , 0.        ,\n",
       "       0.        , 0.        , 0.        , 0.        , 0.        ,\n",
       "       0.        , 0.        , 0.        , 0.        , 0.        ,\n",
       "       0.4431373 , 0.8588236 , 0.9960785 , 0.9490197 , 0.89019614,\n",
       "       0.45098042, 0.34901962, 0.12156864, 0.        , 0.        ,\n",
       "       0.        , 0.        , 0.7843138 , 0.9960785 , 0.9450981 ,\n",
       "       0.16078432, 0.        , 0.        , 0.        , 0.        ,\n",
       "       0.        , 0.        , 0.        , 0.        , 0.        ,\n",
       "       0.        , 0.        , 0.        , 0.6627451 , 0.9960785 ,\n",
       "       0.6901961 , 0.24313727, 0.        , 0.        , 0.        ,\n",
       "       0.        , 0.        , 0.        , 0.        , 0.18823531,\n",
       "       0.9058824 , 0.9960785 , 0.9176471 , 0.        , 0.        ,\n",
       "       0.        , 0.        , 0.        , 0.        , 0.        ,\n",
       "       0.        , 0.        , 0.        , 0.        , 0.        ,\n",
       "       0.        , 0.07058824, 0.48627454, 0.        , 0.        ,\n",
       "       0.        , 0.        , 0.        , 0.        , 0.        ,\n",
       "       0.        , 0.        , 0.32941177, 0.9960785 , 0.9960785 ,\n",
       "       0.6509804 , 0.        , 0.        , 0.        , 0.        ,\n",
       "       0.        , 0.        , 0.        , 0.        , 0.        ,\n",
       "       0.        , 0.        , 0.        , 0.        , 0.        ,\n",
       "       0.        , 0.        , 0.        , 0.        , 0.        ,\n",
       "       0.        , 0.        , 0.        , 0.        , 0.        ,\n",
       "       0.54509807, 0.9960785 , 0.9333334 , 0.22352943, 0.        ,\n",
       "       0.        , 0.        , 0.        , 0.        , 0.        ,\n",
       "       0.        , 0.        , 0.        , 0.        , 0.        ,\n",
       "       0.        , 0.        , 0.        , 0.        , 0.        ,\n",
       "       0.        , 0.        , 0.        , 0.        , 0.        ,\n",
       "       0.        , 0.        , 0.8235295 , 0.9803922 , 0.9960785 ,\n",
       "       0.65882355, 0.        , 0.        , 0.        , 0.        ,\n",
       "       0.        , 0.        , 0.        , 0.        , 0.        ,\n",
       "       0.        , 0.        , 0.        , 0.        , 0.        ,\n",
       "       0.        , 0.        , 0.        , 0.        , 0.        ,\n",
       "       0.        , 0.        , 0.        , 0.        , 0.        ,\n",
       "       0.9490197 , 0.9960785 , 0.93725497, 0.22352943, 0.        ,\n",
       "       0.        , 0.        , 0.        , 0.        , 0.        ,\n",
       "       0.        , 0.        , 0.        , 0.        , 0.        ,\n",
       "       0.        , 0.        , 0.        , 0.        , 0.        ,\n",
       "       0.        , 0.        , 0.        , 0.        , 0.        ,\n",
       "       0.        , 0.        , 0.34901962, 0.9843138 , 0.9450981 ,\n",
       "       0.3372549 , 0.        , 0.        , 0.        , 0.        ,\n",
       "       0.        , 0.        , 0.        , 0.        , 0.        ,\n",
       "       0.        , 0.        , 0.        , 0.        , 0.        ,\n",
       "       0.        , 0.        , 0.        , 0.        , 0.        ,\n",
       "       0.        , 0.        , 0.        , 0.        , 0.01960784,\n",
       "       0.8078432 , 0.96470594, 0.6156863 , 0.        , 0.        ,\n",
       "       0.        , 0.        , 0.        , 0.        , 0.        ,\n",
       "       0.        , 0.        , 0.        , 0.        , 0.        ,\n",
       "       0.        , 0.        , 0.        , 0.        , 0.        ,\n",
       "       0.        , 0.        , 0.        , 0.        , 0.        ,\n",
       "       0.        , 0.        , 0.01568628, 0.45882356, 0.27058825,\n",
       "       0.        , 0.        , 0.        , 0.        , 0.        ,\n",
       "       0.        , 0.        , 0.        , 0.        , 0.        ,\n",
       "       0.        , 0.        , 0.        , 0.        , 0.        ,\n",
       "       0.        , 0.        , 0.        , 0.        , 0.        ,\n",
       "       0.        , 0.        , 0.        , 0.        , 0.        ,\n",
       "       0.        , 0.        , 0.        , 0.        , 0.        ,\n",
       "       0.        , 0.        , 0.        , 0.        , 0.        ,\n",
       "       0.        , 0.        , 0.        , 0.        ], dtype=float32)"
      ]
     },
     "execution_count": 15,
     "metadata": {},
     "output_type": "execute_result"
    }
   ],
   "source": [
    "train_images[0]"
   ]
  },
  {
   "cell_type": "code",
   "execution_count": 9,
   "metadata": {},
   "outputs": [
    {
     "data": {
      "text/plain": [
       "0.13070042"
      ]
     },
     "execution_count": 9,
     "metadata": {},
     "output_type": "execute_result"
    }
   ],
   "source": [
    "np.mean(train_images)"
   ]
  },
  {
   "cell_type": "code",
   "execution_count": 10,
   "metadata": {},
   "outputs": [
    {
     "data": {
      "text/plain": [
       "0.3081596"
      ]
     },
     "execution_count": 10,
     "metadata": {},
     "output_type": "execute_result"
    }
   ],
   "source": [
    "np.std(train_images)"
   ]
  },
  {
   "cell_type": "code",
   "execution_count": 13,
   "metadata": {},
   "outputs": [],
   "source": [
    "train_X = (train_images - np.mean(train_images))/np.std(train_images)\n",
    "test_X = (test_images - np.mean(test_images))/ np.std(test_images)"
   ]
  },
  {
   "cell_type": "code",
   "execution_count": 16,
   "metadata": {},
   "outputs": [
    {
     "data": {
      "text/plain": [
       "array([-0.42413226, -0.42413226, -0.42413226, -0.42413226, -0.42413226,\n",
       "       -0.42413226, -0.42413226, -0.42413226, -0.42413226, -0.42413226,\n",
       "       -0.42413226, -0.42413226, -0.42413226, -0.42413226, -0.42413226,\n",
       "       -0.42413226, -0.42413226, -0.42413226, -0.42413226, -0.42413226,\n",
       "       -0.42413226, -0.42413226, -0.42413226, -0.42413226, -0.42413226,\n",
       "       -0.42413226, -0.42413226, -0.42413226, -0.42413226, -0.42413226,\n",
       "       -0.42413226, -0.42413226, -0.42413226, -0.42413226, -0.42413226,\n",
       "       -0.42413226, -0.42413226, -0.42413226, -0.42413226, -0.42413226,\n",
       "       -0.42413226, -0.42413226, -0.42413226, -0.42413226, -0.42413226,\n",
       "       -0.42413226, -0.42413226, -0.42413226, -0.42413226, -0.42413226,\n",
       "       -0.42413226, -0.42413226, -0.42413226, -0.42413226, -0.42413226,\n",
       "       -0.42413226, -0.42413226, -0.42413226, -0.42413226, -0.42413226,\n",
       "       -0.42413226, -0.42413226, -0.42413226, -0.42413226, -0.42413226,\n",
       "       -0.42413226, -0.42413226, -0.42413226, -0.42413226, -0.42413226,\n",
       "       -0.42413226, -0.42413226, -0.42413226, -0.42413226, -0.42413226,\n",
       "       -0.42413226, -0.42413226, -0.42413226, -0.42413226, -0.42413226,\n",
       "       -0.42413226, -0.42413226, -0.42413226, -0.42413226, -0.42413226,\n",
       "       -0.42413226, -0.42413226, -0.42413226, -0.42413226, -0.42413226,\n",
       "       -0.42413226, -0.42413226, -0.42413226, -0.42413226, -0.42413226,\n",
       "       -0.42413226, -0.42413226, -0.42413226, -0.42413226, -0.42413226,\n",
       "       -0.42413226, -0.42413226, -0.42413226, -0.42413226, -0.42413226,\n",
       "       -0.42413226, -0.42413226, -0.42413226, -0.42413226, -0.42413226,\n",
       "       -0.42413226, -0.42413226, -0.42413226, -0.42413226, -0.42413226,\n",
       "       -0.42413226, -0.42413226, -0.42413226, -0.42413226, -0.42413226,\n",
       "       -0.42413226, -0.42413226, -0.42413226, -0.42413226, -0.42413226,\n",
       "       -0.42413226, -0.42413226, -0.42413226, -0.42413226, -0.42413226,\n",
       "       -0.42413226, -0.42413226, -0.42413226, -0.42413226, -0.42413226,\n",
       "       -0.42413226, -0.42413226, -0.42413226, -0.42413226, -0.42413226,\n",
       "       -0.42413226, -0.42413226, -0.42413226, -0.42413226, -0.42413226,\n",
       "       -0.42413226, -0.42413226, -0.42413226, -0.42413226, -0.42413226,\n",
       "       -0.42413226, -0.42413226, -0.42413226, -0.42413226, -0.42413226,\n",
       "       -0.42413226, -0.42413226, -0.42413226, -0.42413226, -0.42413226,\n",
       "       -0.42413226, -0.42413226, -0.42413226, -0.42413226, -0.42413226,\n",
       "       -0.42413226, -0.42413226, -0.42413226, -0.42413226, -0.42413226,\n",
       "       -0.42413226, -0.42413226, -0.42413226, -0.42413226, -0.42413226,\n",
       "       -0.42413226, -0.42413226, -0.42413226, -0.42413226, -0.42413226,\n",
       "       -0.42413226, -0.42413226, -0.42413226, -0.42413226, -0.42413226,\n",
       "       -0.42413226, -0.42413226, -0.42413226, -0.42413226, -0.42413226,\n",
       "       -0.42413226, -0.42413226, -0.42413226, -0.42413226, -0.42413226,\n",
       "       -0.42413226, -0.42413226, -0.42413226, -0.42413226, -0.42413226,\n",
       "       -0.42413226, -0.42413226, -0.42413226, -0.42413226, -0.42413226,\n",
       "       -0.42413226, -0.42413226,  0.81026775,  0.797542  ,  0.5557522 ,\n",
       "        1.0775089 ,  0.35213986, -0.42413226, -0.42413226, -0.42413226,\n",
       "       -0.42413226, -0.42413226, -0.42413226, -0.42413226, -0.42413226,\n",
       "       -0.42413226, -0.42413226, -0.42413226, -0.42413226, -0.42413226,\n",
       "       -0.42413226, -0.42413226,  0.72118723,  1.3320243 ,  2.5664244 ,\n",
       "        2.5664244 ,  2.5664244 ,  2.5664244 ,  2.5664244 ,  2.5664244 ,\n",
       "        2.7700367 ,  2.7700367 ,  2.7318594 ,  2.808214  ,  2.6936822 ,\n",
       "        2.5664244 ,  1.9937645 , -0.15689105, -0.42413226, -0.42413226,\n",
       "       -0.42413226, -0.42413226, -0.42413226, -0.42413226, -0.42413226,\n",
       "       -0.42413226, -0.42413226, -0.42413226, -0.42413226,  1.3574759 ,\n",
       "        2.7700367 ,  2.808214  ,  2.808214  ,  2.808214  ,  2.808214  ,\n",
       "        2.808214  ,  2.808214  ,  2.808214  ,  2.808214  ,  2.808214  ,\n",
       "        2.808214  ,  2.808214  ,  2.808214  ,  2.808214  ,  2.808214  ,\n",
       "        1.9810387 , -0.1314395 , -0.42413226, -0.42413226, -0.42413226,\n",
       "       -0.42413226, -0.42413226, -0.42413226, -0.42413226, -0.42413226,\n",
       "       -0.42413226, -0.42413226,  2.4518924 ,  2.808214  ,  2.2228286 ,\n",
       "        2.1082966 ,  2.1082966 ,  2.1082966 ,  2.1082966 ,  1.3447502 ,\n",
       "        0.35213986,  0.35213986,  0.35213986,  0.35213986,  0.35213986,\n",
       "        1.2047666 ,  2.4009893 ,  2.808214  ,  2.808214  ,  1.9810387 ,\n",
       "       -0.15689105, -0.42413226, -0.42413226, -0.42413226, -0.42413226,\n",
       "       -0.42413226, -0.42413226, -0.42413226, -0.42413226, -0.42413226,\n",
       "        0.05944709,  0.61938107, -0.2586972 , -0.42413226, -0.42413226,\n",
       "       -0.42413226, -0.42413226, -0.42413226, -0.42413226, -0.42413226,\n",
       "       -0.42413226, -0.42413226, -0.42413226, -0.42413226,  0.008544  ,\n",
       "        2.2864573 ,  2.808214  ,  2.808214  ,  1.0393317 , -0.42413226,\n",
       "       -0.42413226, -0.42413226, -0.42413226, -0.42413226, -0.42413226,\n",
       "       -0.42413226, -0.42413226, -0.42413226, -0.42413226, -0.42413226,\n",
       "       -0.42413226, -0.42413226, -0.42413226, -0.42413226, -0.42413226,\n",
       "       -0.42413226, -0.42413226, -0.42413226, -0.42413226, -0.42413226,\n",
       "       -0.42413226, -0.42413226, -0.42413226,  0.6448326 ,  2.808214  ,\n",
       "        2.808214  ,  2.5536985 , -0.42413226, -0.42413226, -0.42413226,\n",
       "       -0.42413226, -0.42413226, -0.42413226, -0.42413226, -0.42413226,\n",
       "       -0.42413226, -0.42413226, -0.42413226, -0.42413226, -0.42413226,\n",
       "       -0.42413226, -0.42413226, -0.42413226, -0.42413226, -0.42413226,\n",
       "       -0.42413226, -0.42413226, -0.42413226, -0.42413226, -0.42413226,\n",
       "       -0.42413226,  0.6448326 ,  2.808214  ,  2.808214  ,  2.5536985 ,\n",
       "       -0.42413226, -0.42413226, -0.42413226, -0.42413226, -0.42413226,\n",
       "       -0.42413226, -0.42413226, -0.42413226, -0.42413226, -0.42413226,\n",
       "       -0.42413226, -0.42413226, -0.42413226, -0.42413226, -0.42413226,\n",
       "       -0.42413226, -0.42413226, -0.42413226, -0.42413226, -0.42413226,\n",
       "       -0.42413226, -0.42413226, -0.42413226,  0.92479974,  1.573814  ,\n",
       "        2.808214  ,  2.808214  ,  2.6682305 ,  0.22488216, -0.42413226,\n",
       "       -0.42413226, -0.42413226, -0.42413226, -0.42413226, -0.42413226,\n",
       "       -0.42413226, -0.42413226, -0.42413226, -0.42413226, -0.42413226,\n",
       "       -0.42413226, -0.42413226, -0.42413226, -0.42413226, -0.42413226,\n",
       "       -0.42413226, -0.10598794,  1.0647832 ,  2.477344  ,  2.477344  ,\n",
       "        2.477344  ,  2.7954884 ,  2.808214  ,  2.808214  ,  2.808214  ,\n",
       "        2.808214  ,  2.6300533 , -0.42413226, -0.42413226, -0.42413226,\n",
       "       -0.42413226, -0.42413226, -0.42413226, -0.42413226, -0.42413226,\n",
       "       -0.42413226, -0.42413226, -0.42413226, -0.42413226, -0.42413226,\n",
       "       -0.42413226, -0.42413226,  0.44122025,  1.0902348 ,  2.3755379 ,\n",
       "        2.808214  ,  2.808214  ,  2.808214  ,  2.808214  ,  2.808214  ,\n",
       "        2.808214  ,  2.808214  ,  2.808214  ,  2.808214  ,  1.3829274 ,\n",
       "       -0.42413226, -0.42413226, -0.42413226, -0.42413226, -0.42413226,\n",
       "       -0.42413226, -0.42413226, -0.42413226, -0.42413226, -0.42413226,\n",
       "       -0.42413226, -0.42413226, -0.42413226,  0.04672131,  1.9555871 ,\n",
       "        2.7954884 ,  2.808214  ,  2.808214  ,  2.808214  ,  2.4137151 ,\n",
       "        2.197377  ,  2.197377  ,  0.5303007 ,  0.44122025,  2.311909  ,\n",
       "        2.808214  ,  2.808214  ,  1.0647832 , -0.42413226, -0.42413226,\n",
       "       -0.42413226, -0.42413226, -0.42413226, -0.42413226, -0.42413226,\n",
       "       -0.42413226, -0.42413226, -0.42413226, -0.42413226, -0.42413226,\n",
       "        1.0138801 ,  2.362812  ,  2.808214  ,  2.6555047 ,  2.4646182 ,\n",
       "        1.0393317 ,  0.70846146, -0.02963331, -0.42413226, -0.42413226,\n",
       "       -0.42413226, -0.42413226,  2.1210225 ,  2.808214  ,  2.642779  ,\n",
       "        0.0976244 , -0.42413226, -0.42413226, -0.42413226, -0.42413226,\n",
       "       -0.42413226, -0.42413226, -0.42413226, -0.42413226, -0.42413226,\n",
       "       -0.42413226, -0.42413226, -0.42413226,  1.7265233 ,  2.808214  ,\n",
       "        1.8156037 ,  0.36486563, -0.42413226, -0.42413226, -0.42413226,\n",
       "       -0.42413226, -0.42413226, -0.42413226, -0.42413226,  0.18670484,\n",
       "        2.5155213 ,  2.808214  ,  2.5536985 , -0.42413226, -0.42413226,\n",
       "       -0.42413226, -0.42413226, -0.42413226, -0.42413226, -0.42413226,\n",
       "       -0.42413226, -0.42413226, -0.42413226, -0.42413226, -0.42413226,\n",
       "       -0.42413226, -0.19506836,  1.1538635 , -0.42413226, -0.42413226,\n",
       "       -0.42413226, -0.42413226, -0.42413226, -0.42413226, -0.42413226,\n",
       "       -0.42413226, -0.42413226,  0.6448326 ,  2.808214  ,  2.808214  ,\n",
       "        1.688346  , -0.42413226, -0.42413226, -0.42413226, -0.42413226,\n",
       "       -0.42413226, -0.42413226, -0.42413226, -0.42413226, -0.42413226,\n",
       "       -0.42413226, -0.42413226, -0.42413226, -0.42413226, -0.42413226,\n",
       "       -0.42413226, -0.42413226, -0.42413226, -0.42413226, -0.42413226,\n",
       "       -0.42413226, -0.42413226, -0.42413226, -0.42413226, -0.42413226,\n",
       "        1.3447502 ,  2.808214  ,  2.6046016 ,  0.30123678, -0.42413226,\n",
       "       -0.42413226, -0.42413226, -0.42413226, -0.42413226, -0.42413226,\n",
       "       -0.42413226, -0.42413226, -0.42413226, -0.42413226, -0.42413226,\n",
       "       -0.42413226, -0.42413226, -0.42413226, -0.42413226, -0.42413226,\n",
       "       -0.42413226, -0.42413226, -0.42413226, -0.42413226, -0.42413226,\n",
       "       -0.42413226, -0.42413226,  2.24828   ,  2.7573109 ,  2.808214  ,\n",
       "        1.7137976 , -0.42413226, -0.42413226, -0.42413226, -0.42413226,\n",
       "       -0.42413226, -0.42413226, -0.42413226, -0.42413226, -0.42413226,\n",
       "       -0.42413226, -0.42413226, -0.42413226, -0.42413226, -0.42413226,\n",
       "       -0.42413226, -0.42413226, -0.42413226, -0.42413226, -0.42413226,\n",
       "       -0.42413226, -0.42413226, -0.42413226, -0.42413226, -0.42413226,\n",
       "        2.6555047 ,  2.808214  ,  2.6173275 ,  0.30123678, -0.42413226,\n",
       "       -0.42413226, -0.42413226, -0.42413226, -0.42413226, -0.42413226,\n",
       "       -0.42413226, -0.42413226, -0.42413226, -0.42413226, -0.42413226,\n",
       "       -0.42413226, -0.42413226, -0.42413226, -0.42413226, -0.42413226,\n",
       "       -0.42413226, -0.42413226, -0.42413226, -0.42413226, -0.42413226,\n",
       "       -0.42413226, -0.42413226,  0.70846146,  2.7700367 ,  2.642779  ,\n",
       "        0.67028415, -0.42413226, -0.42413226, -0.42413226, -0.42413226,\n",
       "       -0.42413226, -0.42413226, -0.42413226, -0.42413226, -0.42413226,\n",
       "       -0.42413226, -0.42413226, -0.42413226, -0.42413226, -0.42413226,\n",
       "       -0.42413226, -0.42413226, -0.42413226, -0.42413226, -0.42413226,\n",
       "       -0.42413226, -0.42413226, -0.42413226, -0.42413226, -0.3605034 ,\n",
       "        2.197377  ,  2.7064078 ,  1.573814  , -0.42413226, -0.42413226,\n",
       "       -0.42413226, -0.42413226, -0.42413226, -0.42413226, -0.42413226,\n",
       "       -0.42413226, -0.42413226, -0.42413226, -0.42413226, -0.42413226,\n",
       "       -0.42413226, -0.42413226, -0.42413226, -0.42413226, -0.42413226,\n",
       "       -0.42413226, -0.42413226, -0.42413226, -0.42413226, -0.42413226,\n",
       "       -0.42413226, -0.42413226, -0.37322918,  1.0647832 ,  0.45394602,\n",
       "       -0.42413226, -0.42413226, -0.42413226, -0.42413226, -0.42413226,\n",
       "       -0.42413226, -0.42413226, -0.42413226, -0.42413226, -0.42413226,\n",
       "       -0.42413226, -0.42413226, -0.42413226, -0.42413226, -0.42413226,\n",
       "       -0.42413226, -0.42413226, -0.42413226, -0.42413226, -0.42413226,\n",
       "       -0.42413226, -0.42413226, -0.42413226, -0.42413226, -0.42413226,\n",
       "       -0.42413226, -0.42413226, -0.42413226, -0.42413226, -0.42413226,\n",
       "       -0.42413226, -0.42413226, -0.42413226, -0.42413226, -0.42413226,\n",
       "       -0.42413226, -0.42413226, -0.42413226, -0.42413226], dtype=float32)"
      ]
     },
     "execution_count": 16,
     "metadata": {},
     "output_type": "execute_result"
    }
   ],
   "source": [
    "train_X[0]"
   ]
  },
  {
   "cell_type": "code",
   "execution_count": 14,
   "metadata": {},
   "outputs": [
    {
     "name": "stdout",
     "output_type": "stream",
     "text": [
      "(28, 28)\n"
     ]
    },
    {
     "data": {
      "image/png": "[encoded data removed]",
      "text/plain": [
       "<Figure size 432x288 with 1 Axes>"
      ]
     },
     "metadata": {
      "needs_background": "light"
     },
     "output_type": "display_data"
    }
   ],
   "source": [
    "#可视化样本\n",
    "img = train_X[0].reshape(28, 28)\n",
    "print(img.shape)\n",
    "\n",
    "plt.imshow(img)\n",
    "plt.show()"
   ]
  },
  {
   "cell_type": "code",
   "execution_count": null,
   "metadata": {},
   "outputs": [],
   "source": [
    "training_data = train_X.reshape(55000, 1, 28, 28)\n",
    "testing_data = test_X.reshape(10000, 1, 28, 28)"
   ]
  },
  {
   "cell_type": "code",
   "execution_count": null,
   "metadata": {},
   "outputs": [],
   "source": [
    "training_data[0]"
   ]
  },
  {
   "cell_type": "code",
   "execution_count": null,
   "metadata": {},
   "outputs": [],
   "source": []
  },
  {
   "cell_type": "code",
   "execution_count": null,
   "metadata": {},
   "outputs": [],
   "source": []
  },
  {
   "cell_type": "code",
   "execution_count": null,
   "metadata": {},
   "outputs": [],
   "source": []
  },
  {
   "cell_type": "code",
   "execution_count": null,
   "metadata": {},
   "outputs": [],
   "source": []
  },
  {
   "cell_type": "code",
   "execution_count": null,
   "metadata": {},
   "outputs": [],
   "source": []
  },
  {
   "cell_type": "code",
   "execution_count": null,
   "metadata": {},
   "outputs": [],
   "source": []
  },
  {
   "cell_type": "code",
   "execution_count": null,
   "metadata": {},
   "outputs": [],
   "source": []
  },
  {
   "cell_type": "code",
   "execution_count": null,
   "metadata": {},
   "outputs": [],
   "source": []
  },
  {
   "cell_type": "code",
   "execution_count": null,
   "metadata": {},
   "outputs": [],
   "source": []
  }
 ],
 "metadata": {
  "kernelspec": {
   "display_name": "Python 3",
   "language": "python",
   "name": "python3"
  },
  "language_info": {
   "codemirror_mode": {
    "name": "ipython",
    "version": 3
   },
   "file_extension": ".py",
   "mimetype": "text/x-python",
   "name": "python",
   "nbconvert_exporter": "python",
   "pygments_lexer": "ipython3",
   "version": "3.5.6"
  }
 },
 "nbformat": 4,
 "nbformat_minor": 2
}
